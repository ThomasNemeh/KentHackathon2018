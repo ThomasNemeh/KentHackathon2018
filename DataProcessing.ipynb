{
 "cells": [
  {
   "cell_type": "markdown",
   "metadata": {},
   "source": [
    "# Model workspace: we prototype the model her.\n",
    "\n",
    "## data processing\n",
    "some of the data i took from this kaggel kernel:\n",
    "https://www.kaggle.com/johanvandenheuvel/visualization-of-stockdata\n",
    "\n",
    "\n",
    "### Stock Selection Algorithim: Kent Hack Enough.\n",
    "\n",
    "\n",
    "\n",
    "We downloaded the following dataset from kaggle. in the zip file there is a /stock folder, which contains the .txt file of every stock we could ask for. \n",
    "\n",
    "with this data, we process it into a dataframe, and we do some data exploration with it. \n",
    "\n",
    "We then use this to get a couple of features from the data using quantative market analysis, specifically using trend line based volatility. \n",
    "\n",
    "### Neural Network\n",
    "Predicts: expected daily return\n",
    "Inputs: all feature vectors\n",
    "\n",
    "\n",
    "\n"
   ]
  },
  {
   "cell_type": "code",
   "execution_count": null,
   "metadata": {},
   "outputs": [],
   "source": [
    "#imports\n",
    "\n",
    "import matplotlib.pyplot as plt\n",
    "import numpy as np # linear algebra\n",
    "import pandas as pd # data processing, CSV file I/O (e.g. pd.read_csv)\n",
    "import random\n",
    "import datetime as dt\n",
    "import matplotlib.pyplot as plt\n",
    "from subprocess import check_output\n"
   ]
  },
  {
   "cell_type": "code",
   "execution_count": null,
   "metadata": {},
   "outputs": [],
   "source": [
    "import os #change to data\n",
    "os.chdir('../stockData')\n",
    "#read in datafiles\n",
    "filenames = [x for x in os.listdir('../stockData') if x.endswith('.txt') and os.path.getsize(x) > 0]\n",
    "\n",
    "#random samples to check\n",
    "#filenames = random.sample(filenames,10)\n",
    "#print(filenames)"
   ]
  },
  {
   "cell_type": "code",
   "execution_count": null,
   "metadata": {},
   "outputs": [],
   "source": [
    "data = []\n",
    "for filename in filenames:\n",
    "    df = pd.read_csv(filename, sep=',')\n",
    "    #average price\n",
    "    df['Price'] = (df['High'] + df['Low'] + df['Open'] + df['Close'])/4\n",
    "    # do more feature engineering here:\n",
    "    \n",
    "   \n",
    "    #create \"movement feature\"\n",
    "    df['Volume*Price'] = df['Volume'] * df['Price'] \n",
    "    # create label\n",
    "    label, _, _ = filename.split('.')\n",
    "    df['Label'] = label\n",
    "    df['Date'] = pd.to_datetime(df['Date'])\n",
    "\n",
    "    data.append(df)\n",
    "df\n",
    "    "
   ]
  },
  {
   "cell_type": "code",
   "execution_count": null,
   "metadata": {},
   "outputs": [],
   "source": [
    "d = {'Stock': df['Label'], 'Date': df['Date'], 'endDay': df['Close']}\n",
    "plotto= pd.DataFrame(data=d)\n",
    "plotto\n",
    "plotto.interpolate().plot\n",
    "plt.show()"
   ]
  },
  {
   "cell_type": "markdown",
   "metadata": {},
   "source": [
    "## cool. now we have a dataset with avg price, momentum, and labelled data. \n",
    "### we need to change time to be encoded so the algo can deal with time changes. "
   ]
  },
  {
   "cell_type": "code",
   "execution_count": null,
   "metadata": {},
   "outputs": [],
   "source": []
  }
 ],
 "metadata": {
  "kernelspec": {
   "display_name": "Python 3",
   "language": "python",
   "name": "python3"
  },
  "language_info": {
   "codemirror_mode": {
    "name": "ipython",
    "version": 2
   },
   "file_extension": ".py",
   "mimetype": "text/x-python",
   "name": "python",
   "nbconvert_exporter": "python",
   "pygments_lexer": "ipython2",
   "version": "2.7.12"
  }
 },
 "nbformat": 4,
 "nbformat_minor": 2
}
